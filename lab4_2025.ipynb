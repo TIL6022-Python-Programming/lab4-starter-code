{
 "cells": [
  {
   "cell_type": "markdown",
   "metadata": {},
   "source": [
    "# 1. Read and write simple text files"
   ]
  },
  {
   "cell_type": "markdown",
   "metadata": {},
   "source": [
    "Should you need more imports for part 1, place them here. Note, only use imports from **standard Python libraries**."
   ]
  },
  {
   "cell_type": "code",
   "execution_count": null,
   "metadata": {},
   "outputs": [],
   "source": [
    "import shutil"
   ]
  },
  {
   "cell_type": "markdown",
   "metadata": {},
   "source": [
    "A text file `addition.txt` in the data folder contains a number in each line. Write python code that:"
   ]
  },
  {
   "attachments": {},
   "cell_type": "markdown",
   "metadata": {},
   "source": [
    "### 1.1  Read the file content (as a list of int's)"
   ]
  },
  {
   "cell_type": "code",
   "execution_count": null,
   "metadata": {},
   "outputs": [],
   "source": [
    "# Hint: Use the .strip() function to remove whitespaces and newlines characters from a string\n",
    "# Hint: Use os.path.join(path, filename) to avoid file separator differences between OS's\n",
    "\n",
    "def int_read(input_file): \n",
    "    \"\"\" Returns ints from input file in a list. \"\"\"\n",
    "    output = []\n",
    "    # YOUR CODE HERE\n",
    "    return output\n",
    "\n",
    "filename = 'YOUR FILE PATH + NAME HERE' # Write the correct path + file name to the file within the data folder\n",
    "integers = int_read(filename) # save as variable for use in 1.2\n",
    "print(integers)"
   ]
  },
  {
   "attachments": {},
   "cell_type": "markdown",
   "metadata": {},
   "source": [
    "### 1.2 Calculate their sum"
   ]
  },
  {
   "cell_type": "code",
   "execution_count": null,
   "metadata": {},
   "outputs": [],
   "source": [
    "def int_sum(integers_input):\n",
    "    \"\"\" Returns sum of input integers as an int. \"\"\"\n",
    "    # YOUR CODE HERE\n",
    "    \n",
    "sum_of_integers = int_sum(integers) # save as variable for use in 1.4\n",
    "print('Sum of numbers: ' + str(sum_of_integers))"
   ]
  },
  {
   "cell_type": "markdown",
   "metadata": {},
   "source": [
    "### 1.3 Copy integer file addition.txt to addition2.txt"
   ]
  },
  {
   "cell_type": "code",
   "execution_count": null,
   "metadata": {},
   "outputs": [],
   "source": [
    "to_file = 'YOUR FILE PATH + NAME HERE' # Write the correct path + file name to the DESTINATION file within the data folder\n",
    "shutil.copyfile(filename, to_file)"
   ]
  },
  {
   "attachments": {},
   "cell_type": "markdown",
   "metadata": {},
   "source": [
    "### 1.4 Write the sum at the bottom of addition2.txt"
   ]
  },
  {
   "cell_type": "code",
   "execution_count": null,
   "metadata": {},
   "outputs": [],
   "source": [
    "# Hint: You might want to open the file in the \"Append\" mode\n",
    "# Hint: Add \\n characters to start a new line before writing the sum value\n",
    "\n",
    "# YOUR CODE HERE"
   ]
  },
  {
   "cell_type": "markdown",
   "metadata": {},
   "source": [
    "# 2. Pandas"
   ]
  },
  {
   "cell_type": "markdown",
   "metadata": {},
   "source": [
    "In this part, you will practice loading and exploring a data set from Netflix."
   ]
  },
  {
   "attachments": {},
   "cell_type": "markdown",
   "metadata": {},
   "source": [
    "### 2.1. Dataset"
   ]
  },
  {
   "attachments": {},
   "cell_type": "markdown",
   "metadata": {},
   "source": [
    "Import the `pandas` (preferably as `pd`) and `chardet` libraries. If you do not have `chardet`, install it using pip. For example on Windows in the terminal use: `python.exe -m pip install chardet`."
   ]
  },
  {
   "cell_type": "code",
   "execution_count": null,
   "metadata": {},
   "outputs": [],
   "source": [
    "# YOUR CODE HERE"
   ]
  },
  {
   "cell_type": "markdown",
   "metadata": {},
   "source": [
    "Obtain the correct encoding of the file `NetflixOriginals.csv`, see [here](https://www.kaggle.com/code/paultimothymooney/how-to-resolve-a-unicodedecodeerror-for-a-csv-file/notebook)."
   ]
  },
  {
   "cell_type": "code",
   "execution_count": null,
   "metadata": {},
   "outputs": [],
   "source": [
    "file = 'YOUR FILE PATH + NAME HERE' # Write the correct path + file name to the file within the data folder\n",
    "# YOUR CODE HERE (replace how 'result' is achieved)\n",
    "result = None\n",
    "\n",
    "# Instead of the manual method described on the website, use variable 'enc' to read the file\n",
    "enc = result['encoding']"
   ]
  },
  {
   "attachments": {},
   "cell_type": "markdown",
   "metadata": {},
   "source": [
    "Read the Netflix dataset `NetflixOriginals.csv`."
   ]
  },
  {
   "cell_type": "code",
   "execution_count": null,
   "metadata": {},
   "outputs": [],
   "source": [
    "# Read the dataframe under the variable name 'df'\n",
    "df = None # YOUR CODE HERE (replace None)"
   ]
  },
  {
   "attachments": {},
   "cell_type": "markdown",
   "metadata": {},
   "source": [
    "### 2.2 (Optional) Show the first 3 rows"
   ]
  },
  {
   "cell_type": "code",
   "execution_count": null,
   "metadata": {},
   "outputs": [],
   "source": [
    "# YOUR CODE HERE"
   ]
  },
  {
   "attachments": {},
   "cell_type": "markdown",
   "metadata": {},
   "source": [
    "### 2.3. (Optional) Show the last 5 rows"
   ]
  },
  {
   "cell_type": "code",
   "execution_count": null,
   "metadata": {},
   "outputs": [],
   "source": [
    "# YOUR CODE HERE"
   ]
  },
  {
   "attachments": {},
   "cell_type": "markdown",
   "metadata": {},
   "source": [
    "### 2.4. Access the title and the genre of the 100th movie in the database"
   ]
  },
  {
   "cell_type": "code",
   "execution_count": null,
   "metadata": {},
   "outputs": [],
   "source": [
    "movie100 = None # YOUR CODE HERE (replace None) # Mind your indexing\n",
    "\n",
    "print(type(movie100)) # should print \"<class 'pandas.core.series.Series'>\"\n",
    "print(movie100) # should print Title and Genre for only the 100th movie, which is an Action/Comedy"
   ]
  },
  {
   "attachments": {},
   "cell_type": "markdown",
   "metadata": {},
   "source": [
    "### 2.5. Set the column Title as index of the dataset"
   ]
  },
  {
   "cell_type": "code",
   "execution_count": null,
   "metadata": {},
   "outputs": [],
   "source": [
    "df2 = None # YOUR CODE HERE (replace None) # Create a copy into 'df2'as to not alter the original dataset"
   ]
  },
  {
   "attachments": {},
   "cell_type": "markdown",
   "metadata": {},
   "source": [
    "### 2.6. How many movies are there in the dataset?"
   ]
  },
  {
   "cell_type": "code",
   "execution_count": null,
   "metadata": {},
   "outputs": [],
   "source": [
    "def number_of_movies(input_df):\n",
    "    \"\"\" Returns the number of movies in the input DataFrame as an int. \"\"\"\n",
    "    # Use only 'input_df' inside this function, not 'df'\n",
    "    # YOUR CODE HERE\n",
    "\n",
    "print('Number of movies: ' + str(number_of_movies(df))) # should print 584"
   ]
  },
  {
   "attachments": {},
   "cell_type": "markdown",
   "metadata": {},
   "source": [
    "### 2.7. For each movie, what information are available?"
   ]
  },
  {
   "cell_type": "code",
   "execution_count": null,
   "metadata": {},
   "outputs": [],
   "source": [
    "def get_columns(input_df):\n",
    "    \"\"\" Returns the available column names from the input DataFrame in a set. \"\"\"\n",
    "    # Use only 'input_df' inside this function, not 'df'\n",
    "    # YOUR CODE HERE\n",
    "\n",
    "columns = get_columns(df)\n",
    "print(type(columns)) # should print \"<class 'set'>\"\n",
    "print('Columns: ' + str(columns))"
   ]
  },
  {
   "attachments": {},
   "cell_type": "markdown",
   "metadata": {},
   "source": [
    "### 2.8. What is the highest IMDB score in the dataset?"
   ]
  },
  {
   "cell_type": "code",
   "execution_count": null,
   "metadata": {},
   "outputs": [],
   "source": [
    "def highest_score(input_df):\n",
    "    \"\"\" Returns the highest score of any movie in the input DataFrame as a numpy.float64. \"\"\"\n",
    "    # Use only 'input_df' inside this function, not 'df'\n",
    "    # YOUR CODE HERE\n",
    "\n",
    "high_score = highest_score(df)\n",
    "print(type(high_score)) # should print \"<class 'numpy.float64'>\"\n",
    "print('Highest score: ' + str(high_score))"
   ]
  },
  {
   "attachments": {},
   "cell_type": "markdown",
   "metadata": {},
   "source": [
    "### 2.9. Which movies are scored the highest?"
   ]
  },
  {
   "cell_type": "markdown",
   "metadata": {},
   "source": [
    "The variable `best_scoring_movie` should be a string. When you obtain a subset from the `DataFrame` you will likely get a `Series` object. To obtain the first (and hopefully only) value from a `Series` call `.values[0]`."
   ]
  },
  {
   "cell_type": "code",
   "execution_count": null,
   "metadata": {},
   "outputs": [],
   "source": [
    "def best_scoring_movie(input_df):\n",
    "    \"\"\" Returns the name of the best scoring movie as str. \"\"\"\n",
    "    # Use only 'input_df' inside this function, not 'df'\n",
    "    # You can use the function 'highest_score' from above\n",
    "    # YOUR CODE HERE\n",
    "\n",
    "best = best_scoring_movie(df)\n",
    "print(type(best)) # should print \"<class 'str'>\"\n",
    "print('Best scoring movie: ' + best)"
   ]
  },
  {
   "attachments": {},
   "cell_type": "markdown",
   "metadata": {},
   "source": [
    "### 2.10. What is the lowest IMDB score?"
   ]
  },
  {
   "cell_type": "code",
   "execution_count": null,
   "metadata": {},
   "outputs": [],
   "source": [
    "def lowest_score(input_df):\n",
    "    \"\"\" Returns the lowset score of any movie in the input DataFrame as a numpy.float64. \"\"\"\n",
    "    # Use only 'input_df' inside this function, not 'df'\n",
    "    # YOUR CODE HERE\n",
    "\n",
    "low_score = highest_score(df)\n",
    "print(type(low_score)) # should print \"<class 'numpy.float64'>\"\n",
    "print('Lowest score: ' + str(low_score))"
   ]
  },
  {
   "attachments": {},
   "cell_type": "markdown",
   "metadata": {},
   "source": [
    "### 2.11. What movies are scored the lowest?"
   ]
  },
  {
   "cell_type": "code",
   "execution_count": null,
   "metadata": {},
   "outputs": [],
   "source": [
    "def worst_scoring_movie(input_df):\n",
    "    \"\"\" Returns the name of the worst scoring movie as str. \"\"\"\n",
    "    # Use only 'input_df' inside this function, not 'df'\n",
    "    # You can use the function 'lowest_score' from above\n",
    "    # YOUR CODE HERE\n",
    "\n",
    "worst = worst_scoring_movie(df)\n",
    "print(type(worst)) # should print \"<class 'str'>\"\n",
    "print('Worst scoring movie: ' + worst)"
   ]
  },
  {
   "attachments": {},
   "cell_type": "markdown",
   "metadata": {},
   "source": [
    "### 2.12. Consider only-English-language movies, find those that are scored above their average score"
   ]
  },
  {
   "cell_type": "markdown",
   "metadata": {},
   "source": [
    "Ignore movies that have a combined language including `English`. For example a movie with `English/Japanese` language should **not** be included."
   ]
  },
  {
   "cell_type": "code",
   "execution_count": null,
   "metadata": {},
   "outputs": [],
   "source": [
    "def above_average_english(input_df):\n",
    "    \"\"\" Returns a DataFrame with the English movies that score higher than the average English movie in the input DataFrame. \"\"\"\n",
    "    # Use only 'input_df' inside this function, not 'df'\n",
    "    # YOUR CODE HERE\n",
    "\n",
    "above = above_average_english(df)\n",
    "print(type(above)) # should print '<class 'pandas.core.frame.DataFrame'>'\n",
    "print(above) # The result should contain 210 movies"
   ]
  },
  {
   "attachments": {},
   "cell_type": "markdown",
   "metadata": {},
   "source": [
    "### 2.13. (Optional) Is there a correlation between runtime and IMDB score?"
   ]
  },
  {
   "cell_type": "code",
   "execution_count": null,
   "metadata": {},
   "outputs": [],
   "source": [
    "# YOUR CODE HERE"
   ]
  },
  {
   "attachments": {},
   "cell_type": "markdown",
   "metadata": {},
   "source": [
    "### 2.14 How many languages are available?"
   ]
  },
  {
   "cell_type": "markdown",
   "metadata": {},
   "source": [
    "Consider `English`, `Japanese` and `English/Japanese` as 3 different languages."
   ]
  },
  {
   "cell_type": "code",
   "execution_count": null,
   "metadata": {},
   "outputs": [],
   "source": [
    "def number_of_languages(input_df):\n",
    "    \"\"\" Returns the number of unique entries in the Language column of the input DataFrame as int. \"\"\"\n",
    "    # Use only 'input_df' inside this function, not 'df'\n",
    "    # YOUR CODE HERE\n",
    "\n",
    "print('Number of languages: ' + str(number_of_languages(df))) # should print 38"
   ]
  },
  {
   "attachments": {},
   "cell_type": "markdown",
   "metadata": {},
   "source": [
    "### 2.15. Extract all action movies and save them into a csv file 'action_movies.csv' in the data folder"
   ]
  },
  {
   "cell_type": "code",
   "execution_count": null,
   "metadata": {},
   "outputs": [],
   "source": [
    "# YOUR CODE HERE"
   ]
  },
  {
   "attachments": {},
   "cell_type": "markdown",
   "metadata": {},
   "source": [
    "### 2.16. For each genre of movies, answer the following question\n",
    "- How many movies are available in the dataset?"
   ]
  },
  {
   "cell_type": "code",
   "execution_count": null,
   "metadata": {},
   "outputs": [],
   "source": [
    "def genre_count(df_input, genre_input):\n",
    "    \"\"\" Returns the number of movies in the input DataFrame with genre equal to the input genre as int. \"\"\"\n",
    "    # Use only 'input_df' and 'genre_input' inside this function, not 'df'\n",
    "    # YOUR CODE HERE\n",
    "\n",
    "genres = set(df['Genre']) # save as variable for use in code blocks below\n",
    "for genre in genres:\n",
    "    print(genre + ': ' + str(genre_count(df, genre)))"
   ]
  },
  {
   "cell_type": "markdown",
   "metadata": {},
   "source": [
    "\n",
    "- What is their average score?"
   ]
  },
  {
   "cell_type": "code",
   "execution_count": null,
   "metadata": {},
   "outputs": [],
   "source": [
    "def genre_score(df_input, genre_input):\n",
    "    \"\"\" Returns the average IMDB score of movies in the input DataFrame with genre equal to the input genre as float. \"\"\"\n",
    "    # Use only 'input_df' and 'genre_input' inside this function, not 'df'\n",
    "    # YOUR CODE HERE\n",
    "\n",
    "for genre in genres:\n",
    "    print(genre + ': ' + str(genre_score(df, genre)))"
   ]
  },
  {
   "attachments": {},
   "cell_type": "markdown",
   "metadata": {},
   "source": [
    "### 2.17. On average, what genre of movies scores the highest?"
   ]
  },
  {
   "cell_type": "code",
   "execution_count": null,
   "metadata": {},
   "outputs": [],
   "source": [
    "def best_genre(df_input):\n",
    "    \"\"\" Returns the best scoring genre from the input DataFrame as str. \"\"\"\n",
    "    # Use only 'input_df' inside this function, not 'df'\n",
    "    # YOUR CODE HERE\n",
    "\n",
    "best = best_genre(df)\n",
    "print(type(best)) # should print \"<class 'str'>\"\n",
    "print('Max score for genre ' + best)"
   ]
  }
 ],
 "metadata": {
  "kernelspec": {
   "display_name": "Python 3",
   "language": "python",
   "name": "python3"
  },
  "language_info": {
   "codemirror_mode": {
    "name": "ipython",
    "version": 3
   },
   "file_extension": ".py",
   "mimetype": "text/x-python",
   "name": "python",
   "nbconvert_exporter": "python",
   "pygments_lexer": "ipython3",
   "version": "3.13.5"
  }
 },
 "nbformat": 4,
 "nbformat_minor": 4
}
